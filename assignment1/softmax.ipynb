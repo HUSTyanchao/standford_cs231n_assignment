{
 "cells": [
  {
   "cell_type": "markdown",
   "metadata": {},
   "source": [
    "# Softmax exercise\n",
    "\n",
    "*Complete and hand in this completed worksheet (including its outputs and any supporting code outside of the worksheet) with your assignment submission. For more details see the [assignments page](http://vision.stanford.edu/teaching/cs231n/assignments.html) on the course website.*\n",
    "\n",
    "This exercise is analogous to the SVM exercise. You will:\n",
    "\n",
    "- implement a fully-vectorized **loss function** for the Softmax classifier\n",
    "- implement the fully-vectorized expression for its **analytic gradient**\n",
    "- **check your implementation** with numerical gradient\n",
    "- use a validation set to **tune the learning rate and regularization** strength\n",
    "- **optimize** the loss function with **SGD**\n",
    "- **visualize** the final learned weights\n"
   ]
  },
  {
   "cell_type": "code",
   "execution_count": 1,
   "metadata": {
    "collapsed": false
   },
   "outputs": [],
   "source": [
    "import random\n",
    "import numpy as np\n",
    "from cs231n.data_utils import load_CIFAR10\n",
    "import matplotlib.pyplot as plt\n",
    "%matplotlib inline\n",
    "plt.rcParams['figure.figsize'] = (10.0, 8.0) # set default size of plots\n",
    "plt.rcParams['image.interpolation'] = 'nearest'\n",
    "plt.rcParams['image.cmap'] = 'gray'\n",
    "\n",
    "# for auto-reloading extenrnal modules\n",
    "# see http://stackoverflow.com/questions/1907993/autoreload-of-modules-in-ipython\n",
    "%load_ext autoreload\n",
    "%autoreload 2"
   ]
  },
  {
   "cell_type": "code",
   "execution_count": 2,
   "metadata": {
    "collapsed": false
   },
   "outputs": [
    {
     "name": "stdout",
     "output_type": "stream",
     "text": [
      "Train data shape:  (49000, 3073)\n",
      "Train labels shape:  (49000,)\n",
      "Validation data shape:  (1000, 3073)\n",
      "Validation labels shape:  (1000,)\n",
      "Test data shape:  (1000, 3073)\n",
      "Test labels shape:  (1000,)\n",
      "dev data shape:  (500, 3073)\n",
      "dev labels shape:  (500,)\n"
     ]
    }
   ],
   "source": [
    "def get_CIFAR10_data(num_training=49000, num_validation=1000, num_test=1000, num_dev=500):\n",
    "  \"\"\"\n",
    "  Load the CIFAR-10 dataset from disk and perform preprocessing to prepare\n",
    "  it for the linear classifier. These are the same steps as we used for the\n",
    "  SVM, but condensed to a single function.  \n",
    "  \"\"\"\n",
    "  # Load the raw CIFAR-10 data\n",
    "  cifar10_dir = 'cs231n/datasets/cifar-10-batches-py'\n",
    "  X_train, y_train, X_test, y_test = load_CIFAR10(cifar10_dir)\n",
    "  \n",
    "  # subsample the data\n",
    "  mask = range(num_training, num_training + num_validation)\n",
    "  X_val = X_train[mask]\n",
    "  y_val = y_train[mask]\n",
    "  mask = range(num_training)\n",
    "  X_train = X_train[mask]\n",
    "  y_train = y_train[mask]\n",
    "  mask = range(num_test)\n",
    "  X_test = X_test[mask]\n",
    "  y_test = y_test[mask]\n",
    "  mask = np.random.choice(num_training, num_dev, replace=False)\n",
    "  X_dev = X_train[mask]\n",
    "  y_dev = y_train[mask]\n",
    "  \n",
    "  # Preprocessing: reshape the image data into rows\n",
    "  X_train = np.reshape(X_train, (X_train.shape[0], -1))\n",
    "  X_val = np.reshape(X_val, (X_val.shape[0], -1))\n",
    "  X_test = np.reshape(X_test, (X_test.shape[0], -1))\n",
    "  X_dev = np.reshape(X_dev, (X_dev.shape[0], -1))\n",
    "  \n",
    "  # Normalize the data: subtract the mean image\n",
    "  mean_image = np.mean(X_train, axis = 0)\n",
    "  X_train -= mean_image\n",
    "  X_val -= mean_image\n",
    "  X_test -= mean_image\n",
    "  X_dev -= mean_image\n",
    "  \n",
    "  # add bias dimension and transform into columns\n",
    "  X_train = np.hstack([X_train, np.ones((X_train.shape[0], 1))])\n",
    "  X_val = np.hstack([X_val, np.ones((X_val.shape[0], 1))])\n",
    "  X_test = np.hstack([X_test, np.ones((X_test.shape[0], 1))])\n",
    "  X_dev = np.hstack([X_dev, np.ones((X_dev.shape[0], 1))])\n",
    "  \n",
    "  return X_train, y_train, X_val, y_val, X_test, y_test, X_dev, y_dev\n",
    "\n",
    "\n",
    "# Invoke the above function to get our data.\n",
    "X_train, y_train, X_val, y_val, X_test, y_test, X_dev, y_dev = get_CIFAR10_data()\n",
    "print 'Train data shape: ', X_train.shape\n",
    "print 'Train labels shape: ', y_train.shape\n",
    "print 'Validation data shape: ', X_val.shape\n",
    "print 'Validation labels shape: ', y_val.shape\n",
    "print 'Test data shape: ', X_test.shape\n",
    "print 'Test labels shape: ', y_test.shape\n",
    "print 'dev data shape: ', X_dev.shape\n",
    "print 'dev labels shape: ', y_dev.shape"
   ]
  },
  {
   "cell_type": "markdown",
   "metadata": {},
   "source": [
    "## Softmax Classifier\n",
    "\n",
    "Your code for this section will all be written inside **cs231n/classifiers/softmax.py**. \n"
   ]
  },
  {
   "cell_type": "code",
   "execution_count": 25,
   "metadata": {
    "collapsed": false
   },
   "outputs": [
    {
     "name": "stdout",
     "output_type": "stream",
     "text": [
      "loss: 2.361164\n",
      "sanity check: 2.302585\n"
     ]
    }
   ],
   "source": [
    "# First implement the naive softmax loss function with nested loops.\n",
    "# Open the file cs231n/classifiers/softmax.py and implement the\n",
    "# softmax_loss_naive function.\n",
    "\n",
    "from cs231n.classifiers.softmax import softmax_loss_naive\n",
    "import time\n",
    "\n",
    "# Generate a random softmax weight matrix and use it to compute the loss.\n",
    "W = np.random.randn(3073, 10) * 0.0001\n",
    "loss, grad = softmax_loss_naive(W, X_dev, y_dev, 0.0)\n",
    "\n",
    "# As a rough sanity check, our loss should be something close to -log(0.1).\n",
    "print 'loss: %f' % loss\n",
    "print 'sanity check: %f' % (-np.log(0.1))"
   ]
  },
  {
   "cell_type": "markdown",
   "metadata": {},
   "source": [
    "## Inline Question 1:\n",
    "Why do we expect our loss to be close to -log(0.1)? Explain briefly.**\n",
    "\n",
    "**Your answer:** *Fill this in*\n"
   ]
  },
  {
   "cell_type": "code",
   "execution_count": 41,
   "metadata": {
    "collapsed": false
   },
   "outputs": [
    {
     "name": "stdout",
     "output_type": "stream",
     "text": [
      "numerical: -0.067441 analytic: -0.067442, relative error: 5.115080e-07\n",
      "numerical: 1.442840 analytic: 1.442840, relative error: 6.621936e-09\n",
      "numerical: 1.356465 analytic: 1.356465, relative error: 5.369321e-08\n",
      "numerical: -0.085595 analytic: -0.085595, relative error: 5.312925e-07\n",
      "numerical: -1.305898 analytic: -1.305898, relative error: 3.155878e-08\n",
      "numerical: 0.186116 analytic: 0.186116, relative error: 1.325364e-07\n",
      "numerical: 3.119311 analytic: 3.119311, relative error: 2.545020e-08\n",
      "numerical: -1.524781 analytic: -1.524781, relative error: 1.001372e-08\n",
      "numerical: 0.242466 analytic: 0.242466, relative error: 8.421086e-08\n",
      "numerical: -0.684497 analytic: -0.684497, relative error: 1.184184e-07\n",
      "numerical: 3.396370 analytic: 3.396370, relative error: 3.238858e-08\n",
      "numerical: 0.514982 analytic: 0.514982, relative error: 4.332088e-08\n",
      "numerical: -0.352109 analytic: -0.352109, relative error: 1.693059e-07\n",
      "numerical: 6.033265 analytic: 6.033264, relative error: 2.259839e-08\n",
      "numerical: -1.203821 analytic: -1.203821, relative error: 5.217239e-08\n",
      "numerical: -1.371315 analytic: -1.371316, relative error: 3.924193e-08\n",
      "numerical: -0.279803 analytic: -0.279803, relative error: 6.573608e-08\n",
      "numerical: 0.830919 analytic: 0.830919, relative error: 1.314699e-07\n",
      "numerical: -2.135198 analytic: -2.135198, relative error: 9.962101e-09\n",
      "numerical: 3.094062 analytic: 3.094062, relative error: 4.071216e-08\n"
     ]
    }
   ],
   "source": [
    "# Complete the implementation of softmax_loss_naive and implement a (naive)\n",
    "# version of the gradient that uses nested loops.\n",
    "loss, grad = softmax_loss_naive(W, X_dev, y_dev, 0.0)\n",
    "\n",
    "# As we did for the SVM, use numeric gradient checking as a debugging tool.\n",
    "# The numeric gradient should be close to the analytic gradient.\n",
    "from cs231n.gradient_check import grad_check_sparse\n",
    "f = lambda w: softmax_loss_naive(w, X_dev, y_dev, 0.0)[0]\n",
    "grad_numerical = grad_check_sparse(f, W, grad, 10)\n",
    "\n",
    "# similar to SVM case, do another gradient check with regularization\n",
    "loss, grad = softmax_loss_naive(W, X_dev, y_dev, 1e2)\n",
    "f = lambda w: softmax_loss_naive(w, X_dev, y_dev, 1e2)[0]\n",
    "grad_numerical = grad_check_sparse(f, W, grad, 10)"
   ]
  },
  {
   "cell_type": "code",
   "execution_count": 44,
   "metadata": {
    "collapsed": false
   },
   "outputs": [
    {
     "name": "stdout",
     "output_type": "stream",
     "text": [
      "naive loss: 2.361164e+00 computed in 0.154299s\n",
      "vectorized loss: 2.361164e+00 computed in 0.059203s\n",
      "Loss difference: 0.000000\n",
      "Gradient difference: 0.000000\n"
     ]
    }
   ],
   "source": [
    "# Now that we have a naive implementation of the softmax loss function and its gradient,\n",
    "# implement a vectorized version in softmax_loss_vectorized.\n",
    "# The two versions should compute the same results, but the vectorized version should be\n",
    "# much faster.\n",
    "tic = time.time()\n",
    "loss_naive, grad_naive = softmax_loss_naive(W, X_dev, y_dev, 0.00001)\n",
    "toc = time.time()\n",
    "print 'naive loss: %e computed in %fs' % (loss_naive, toc - tic)\n",
    "\n",
    "from cs231n.classifiers.softmax import softmax_loss_vectorized\n",
    "tic = time.time()\n",
    "loss_vectorized, grad_vectorized = softmax_loss_vectorized(W, X_dev, y_dev, 0.00001)\n",
    "toc = time.time()\n",
    "print 'vectorized loss: %e computed in %fs' % (loss_vectorized, toc - tic)\n",
    "\n",
    "# As we did for the SVM, we use the Frobenius norm to compare the two versions\n",
    "# of the gradient.\n",
    "grad_difference = np.linalg.norm(grad_naive - grad_vectorized, ord='fro')\n",
    "print 'Loss difference: %f' % np.abs(loss_naive - loss_vectorized)\n",
    "print 'Gradient difference: %f' % grad_difference"
   ]
  },
  {
   "cell_type": "code",
   "execution_count": 48,
   "metadata": {
    "collapsed": false
   },
   "outputs": [
    {
     "name": "stdout",
     "output_type": "stream",
     "text": [
      "iteration 0 / 700: loss 158.373113\n",
      "iteration 100 / 700: loss 2.099839\n",
      "iteration 200 / 700: loss 2.275270\n",
      "iteration 300 / 700: loss 2.120246\n",
      "iteration 400 / 700: loss 2.410571\n",
      "iteration 500 / 700: loss 2.260581\n",
      "iteration 600 / 700: loss 2.163732\n",
      "iteration 0 / 700: loss 773.012481\n",
      "iteration 100 / 700: loss 2.298151\n",
      "iteration 200 / 700: loss 2.391819\n",
      "iteration 300 / 700: loss 2.362811\n",
      "iteration 400 / 700: loss 2.823273\n",
      "iteration 500 / 700: loss 2.325333\n",
      "iteration 600 / 700: loss 2.683763\n",
      "iteration 0 / 700: loss 1532.531523\n",
      "iteration 100 / 700: loss 3.026515\n",
      "iteration 200 / 700: loss 3.100679\n",
      "iteration 300 / 700: loss 4.547007\n",
      "iteration 400 / 700: loss 2.973686\n",
      "iteration 500 / 700: loss 3.423706\n",
      "iteration 600 / 700: loss 3.840851\n",
      "iteration 0 / 700: loss 160.546105\n",
      "iteration 100 / 700: loss 130.450330\n",
      "iteration 200 / 700: loss 106.960197\n",
      "iteration 300 / 700: loss 87.317628\n",
      "iteration 400 / 700: loss 71.914036\n",
      "iteration 500 / 700: loss 59.164393\n",
      "iteration 600 / 700: loss 48.591208\n",
      "iteration 0 / 700: loss 771.523144\n",
      "iteration 100 / 700: loss 283.098805\n",
      "iteration 200 / 700: loss 105.178288\n",
      "iteration 300 / 700: loss 39.752536\n",
      "iteration 400 / 700: loss 15.845058\n",
      "iteration 500 / 700: loss 7.143435\n",
      "iteration 600 / 700: loss 3.969322\n",
      "iteration 0 / 700: loss 1534.325106\n",
      "iteration 100 / 700: loss 206.574153\n",
      "iteration 200 / 700: loss 29.401151\n",
      "iteration 300 / 700: loss 5.797058\n",
      "iteration 400 / 700: loss 2.625691\n",
      "iteration 500 / 700: loss 2.234417\n",
      "iteration 600 / 700: loss 2.128007\n",
      "iteration 0 / 700: loss 158.524798\n",
      "iteration 100 / 700: loss 58.390246\n",
      "iteration 200 / 700: loss 22.449159\n",
      "iteration 300 / 700: loss 9.507771\n",
      "iteration 400 / 700: loss 4.686330\n",
      "iteration 500 / 700: loss 2.886900\n",
      "iteration 600 / 700: loss 2.404861\n",
      "iteration 0 / 700: loss 774.089736\n",
      "iteration 100 / 700: loss 6.947846\n",
      "iteration 200 / 700: loss 2.095521\n",
      "iteration 300 / 700: loss 2.110534\n",
      "iteration 400 / 700: loss 2.080970\n",
      "iteration 500 / 700: loss 2.109027\n",
      "iteration 600 / 700: loss 2.110058\n",
      "iteration 0 / 700: loss 1560.435532\n",
      "iteration 100 / 700: loss 2.185752\n",
      "iteration 200 / 700: loss 2.182111\n",
      "iteration 300 / 700: loss 2.147888\n",
      "iteration 400 / 700: loss 2.102278\n",
      "iteration 500 / 700: loss 2.159462\n",
      "iteration 600 / 700: loss 2.154885\n",
      "lr 1.000000e-07 reg 1.000000e+04 train accuracy: 0.246082 val accuracy: 0.264000\n",
      "lr 1.000000e-07 reg 5.000000e+04 train accuracy: 0.328143 val accuracy: 0.341000\n",
      "lr 1.000000e-07 reg 1.000000e+05 train accuracy: 0.305755 val accuracy: 0.316000\n",
      "lr 5.000000e-07 reg 1.000000e+04 train accuracy: 0.366265 val accuracy: 0.379000\n",
      "lr 5.000000e-07 reg 5.000000e+04 train accuracy: 0.331102 val accuracy: 0.345000\n",
      "lr 5.000000e-07 reg 1.000000e+05 train accuracy: 0.290796 val accuracy: 0.312000\n",
      "lr 5.000000e-06 reg 1.000000e+04 train accuracy: 0.336776 val accuracy: 0.336000\n",
      "lr 5.000000e-06 reg 5.000000e+04 train accuracy: 0.190673 val accuracy: 0.198000\n",
      "lr 5.000000e-06 reg 1.000000e+05 train accuracy: 0.165571 val accuracy: 0.151000\n",
      "best validation accuracy achieved during cross-validation: 0.379000\n"
     ]
    }
   ],
   "source": [
    "# Use the validation set to tune hyperparameters (regularization strength and\n",
    "# learning rate). You should experiment with different ranges for the learning\n",
    "# rates and regularization strengths; if you are careful you should be able to\n",
    "# get a classification accuracy of over 0.35 on the validation set.\n",
    "from cs231n.classifiers import Softmax\n",
    "results = {}\n",
    "best_val = -1\n",
    "best_softmax = None\n",
    "learning_rates = [5e-6, 1e-7, 5e-7]\n",
    "regularization_strengths = [1e4, 5e4, 1e5]\n",
    "\n",
    "################################################################################\n",
    "# TODO:                                                                        #\n",
    "# Use the validation set to set the learning rate and regularization strength. #\n",
    "# This should be identical to the validation that you did for the SVM; save    #\n",
    "# the best trained softmax classifer in best_softmax.                          #\n",
    "################################################################################\n",
    "params = [(x,y) for x in learning_rates for y in regularization_strengths ]\n",
    "for lrate, regular in params:\n",
    "    softmax = Softmax()\n",
    "    loss_hist = softmax.train(X_train, y_train, learning_rate=lrate, reg=regular,\n",
    "                             num_iters=700, verbose=True)\n",
    "    y_train_pred = softmax.predict(X_train)\n",
    "    accuracy_train = np.mean( y_train == y_train_pred)\n",
    "    y_val_pred = softmax.predict(X_val)\n",
    "    accuracy_val = np.mean(y_val == y_val_pred)\n",
    "    results[(lrate, regular)] = (accuracy_train, accuracy_val)\n",
    "    if(best_val < accuracy_val):\n",
    "        best_val = accuracy_val\n",
    "        best_softmax = softmax\n",
    "################################################################################\n",
    "#                              END OF YOUR CODE                                #\n",
    "################################################################################\n",
    "    \n",
    "# Print out results.\n",
    "for lr, reg in sorted(results):\n",
    "    train_accuracy, val_accuracy = results[(lr, reg)]\n",
    "    print 'lr %e reg %e train accuracy: %f val accuracy: %f' % (\n",
    "                lr, reg, train_accuracy, val_accuracy)\n",
    "    \n",
    "print 'best validation accuracy achieved during cross-validation: %f' % best_val"
   ]
  },
  {
   "cell_type": "code",
   "execution_count": 49,
   "metadata": {
    "collapsed": false
   },
   "outputs": [
    {
     "name": "stdout",
     "output_type": "stream",
     "text": [
      "softmax on raw pixels final test set accuracy: 0.363000\n"
     ]
    }
   ],
   "source": [
    "# evaluate on test set\n",
    "# Evaluate the best softmax on test set\n",
    "y_test_pred = best_softmax.predict(X_test)\n",
    "test_accuracy = np.mean(y_test == y_test_pred)\n",
    "print 'softmax on raw pixels final test set accuracy: %f' % (test_accuracy, )"
   ]
  },
  {
   "cell_type": "code",
   "execution_count": 50,
   "metadata": {
    "collapsed": false
   },
   "outputs": [
    {
     "data": {
      "image/png": "[encoded data removed]",
      "text/plain": [
       "<matplotlib.figure.Figure at 0x7ffa6a3128d0>"
      ]
     },
     "metadata": {},
     "output_type": "display_data"
    }
   ],
   "source": [
    "# Visualize the learned weights for each class\n",
    "w = best_softmax.W[:-1,:] # strip out the bias\n",
    "w = w.reshape(32, 32, 3, 10)\n",
    "\n",
    "w_min, w_max = np.min(w), np.max(w)\n",
    "\n",
    "classes = ['plane', 'car', 'bird', 'cat', 'deer', 'dog', 'frog', 'horse', 'ship', 'truck']\n",
    "for i in xrange(10):\n",
    "  plt.subplot(2, 5, i + 1)\n",
    "  \n",
    "  # Rescale the weights to be between 0 and 255\n",
    "  wimg = 255.0 * (w[:, :, :, i].squeeze() - w_min) / (w_max - w_min)\n",
    "  plt.imshow(wimg.astype('uint8'))\n",
    "  plt.axis('off')\n",
    "  plt.title(classes[i])"
   ]
  },
  {
   "cell_type": "code",
   "execution_count": null,
   "metadata": {
    "collapsed": true
   },
   "outputs": [],
   "source": []
  }
 ],
 "metadata": {
  "kernelspec": {
   "display_name": "Python [Root]",
   "language": "python",
   "name": "Python [Root]"
  },
  "language_info": {
   "codemirror_mode": {
    "name": "ipython",
    "version": 2
   },
   "file_extension": ".py",
   "mimetype": "text/x-python",
   "name": "python",
   "nbconvert_exporter": "python",
   "pygments_lexer": "ipython2",
   "version": "2.7.12"
  }
 },
 "nbformat": 4,
 "nbformat_minor": 0
}
